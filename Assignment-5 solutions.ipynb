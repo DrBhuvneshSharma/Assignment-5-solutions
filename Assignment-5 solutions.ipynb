{
 "cells": [
  {
   "cell_type": "markdown",
   "id": "8174e37c",
   "metadata": {},
   "source": [
    "Q.1. What does an empty dictionary's code look like?\n",
    "\n",
    "Ans. Dictionary is represented by {}."
   ]
  },
  {
   "cell_type": "code",
   "execution_count": 2,
   "id": "e2eabbf5",
   "metadata": {},
   "outputs": [
    {
     "name": "stdout",
     "output_type": "stream",
     "text": [
      "<class 'dict'>\n"
     ]
    }
   ],
   "source": [
    "d={}\n",
    "print(type(d))"
   ]
  },
  {
   "cell_type": "markdown",
   "id": "5f6b9930",
   "metadata": {},
   "source": [
    "Q.2. What is the value of a dictionary value with the key 'foo' and the value 42?"
   ]
  },
  {
   "cell_type": "code",
   "execution_count": 5,
   "id": "bc704c6b",
   "metadata": {},
   "outputs": [
    {
     "name": "stdout",
     "output_type": "stream",
     "text": [
      "{'foo': 42}\n"
     ]
    }
   ],
   "source": [
    "#Ans.\n",
    "d1={'foo': 42}\n",
    "print(d1)"
   ]
  },
  {
   "cell_type": "markdown",
   "id": "a775dda8",
   "metadata": {},
   "source": [
    "Q.3. What is the most significant distinction between a dictionary and a list?\n",
    "\n",
    "Ans. Districtive feature between dictionary and list: Dictionary is always present in key-value pair whereas list is lrdered collection of data."
   ]
  },
  {
   "cell_type": "code",
   "execution_count": null,
   "id": "1a770aba",
   "metadata": {},
   "outputs": [],
   "source": [
    "Q.4. What happens if you try to access spam['foo'] if spam is {'bar': 100}?"
   ]
  },
  {
   "cell_type": "code",
   "execution_count": 8,
   "id": "1f359c3b",
   "metadata": {},
   "outputs": [
    {
     "ename": "KeyError",
     "evalue": "'foo'",
     "output_type": "error",
     "traceback": [
      "\u001b[1;31m---------------------------------------------------------------------------\u001b[0m",
      "\u001b[1;31mKeyError\u001b[0m                                  Traceback (most recent call last)",
      "\u001b[1;32m~\\AppData\\Local\\Temp/ipykernel_1304/2866235843.py\u001b[0m in \u001b[0;36m<module>\u001b[1;34m\u001b[0m\n\u001b[0;32m      1\u001b[0m \u001b[1;31m#it will give a key error\u001b[0m\u001b[1;33m\u001b[0m\u001b[1;33m\u001b[0m\u001b[0m\n\u001b[0;32m      2\u001b[0m \u001b[0mspam\u001b[0m\u001b[1;33m=\u001b[0m \u001b[1;33m{\u001b[0m\u001b[1;34m'bar'\u001b[0m\u001b[1;33m:\u001b[0m \u001b[1;36m10\u001b[0m\u001b[1;33m}\u001b[0m\u001b[1;33m\u001b[0m\u001b[1;33m\u001b[0m\u001b[0m\n\u001b[1;32m----> 3\u001b[1;33m \u001b[0mspam\u001b[0m\u001b[1;33m[\u001b[0m\u001b[1;34m'foo'\u001b[0m\u001b[1;33m]\u001b[0m\u001b[1;33m\u001b[0m\u001b[1;33m\u001b[0m\u001b[0m\n\u001b[0m",
      "\u001b[1;31mKeyError\u001b[0m: 'foo'"
     ]
    }
   ],
   "source": [
    "#it will give a key error\n",
    "spam= {'bar': 10}\n",
    "spam['foo']"
   ]
  },
  {
   "cell_type": "markdown",
   "id": "5cbb4ad9",
   "metadata": {},
   "source": [
    "Q.5. If a dictionary is stored in spam, what is the difference between the expressions 'cat' in spam and 'cat' in spam.keys()?\n",
    "\n",
    "no difference, in both the cases it will search 'cat' as key"
   ]
  },
  {
   "cell_type": "code",
   "execution_count": 28,
   "id": "f6de93c4",
   "metadata": {},
   "outputs": [
    {
     "data": {
      "text/plain": [
       "True"
      ]
     },
     "execution_count": 28,
     "metadata": {},
     "output_type": "execute_result"
    }
   ],
   "source": [
    "spam={'cat':'rat', 'bill':34}\n",
    "'cat'in spam"
   ]
  },
  {
   "cell_type": "code",
   "execution_count": 29,
   "id": "1d40292e",
   "metadata": {},
   "outputs": [
    {
     "data": {
      "text/plain": [
       "True"
      ]
     },
     "execution_count": 29,
     "metadata": {},
     "output_type": "execute_result"
    }
   ],
   "source": [
    "'cat' in spam.keys()"
   ]
  },
  {
   "cell_type": "code",
   "execution_count": 32,
   "id": "fbd2cb25",
   "metadata": {},
   "outputs": [
    {
     "data": {
      "text/plain": [
       "False"
      ]
     },
     "execution_count": 32,
     "metadata": {},
     "output_type": "execute_result"
    }
   ],
   "source": [
    "spam1={'rat':'cat', \"bill\":34}\n",
    "'cat' in spam1"
   ]
  },
  {
   "cell_type": "code",
   "execution_count": 33,
   "id": "f7f49887",
   "metadata": {},
   "outputs": [
    {
     "data": {
      "text/plain": [
       "False"
      ]
     },
     "execution_count": 33,
     "metadata": {},
     "output_type": "execute_result"
    }
   ],
   "source": [
    "'cat' in spam1.keys()"
   ]
  },
  {
   "cell_type": "markdown",
   "id": "b71ba73d",
   "metadata": {},
   "source": [
    "Q.6. If a dictionary is stored in spam, what is the difference between the expressions 'cat' in spam and 'cat' in spam.values()?\n",
    "\n",
    "Ans. 'cat' in spam search for 'cat' as key. 'cat' in spam.keys(), searches the 'cat' as valuse in spam"
   ]
  },
  {
   "cell_type": "code",
   "execution_count": 34,
   "id": "839c562b",
   "metadata": {},
   "outputs": [
    {
     "data": {
      "text/plain": [
       "False"
      ]
     },
     "execution_count": 34,
     "metadata": {},
     "output_type": "execute_result"
    }
   ],
   "source": [
    "'cat' in spam.values()"
   ]
  },
  {
   "cell_type": "code",
   "execution_count": 35,
   "id": "34c9290d",
   "metadata": {},
   "outputs": [
    {
     "data": {
      "text/plain": [
       "True"
      ]
     },
     "execution_count": 35,
     "metadata": {},
     "output_type": "execute_result"
    }
   ],
   "source": [
    "'cat' in spam1.values()"
   ]
  },
  {
   "cell_type": "markdown",
   "id": "4828371f",
   "metadata": {},
   "source": [
    "Q.7. What is a shortcut for the following code?\n",
    "if 'color' not in spam:\n",
    "spam['color'] = 'black'\n",
    "\n",
    "Ans. spam.setdefault('color', 'black')"
   ]
  },
  {
   "cell_type": "code",
   "execution_count": 36,
   "id": "c1d4e773",
   "metadata": {},
   "outputs": [
    {
     "data": {
      "text/plain": [
       "'black'"
      ]
     },
     "execution_count": 36,
     "metadata": {},
     "output_type": "execute_result"
    }
   ],
   "source": [
    "spam.setdefault('color', 'black')"
   ]
  },
  {
   "cell_type": "code",
   "execution_count": 37,
   "id": "722e2136",
   "metadata": {},
   "outputs": [
    {
     "data": {
      "text/plain": [
       "{'cat': 'rat', 'bill': 34, 'color': 'black'}"
      ]
     },
     "execution_count": 37,
     "metadata": {},
     "output_type": "execute_result"
    }
   ],
   "source": [
    "spam"
   ]
  },
  {
   "cell_type": "markdown",
   "id": "992b3a2c",
   "metadata": {},
   "source": [
    "Q.8. How do you \"pretty print\" dictionary values using which module and function?\n",
    "\n",
    "Ans. pprint is a Python module that provides the capability to pretty print Python data types to be more readable. This module also supports pretty-printing dictionary.\n",
    "\n",
    "First, declare an array of dictionaries. Afterward, pretty print it using the function pprint.pprint()."
   ]
  },
  {
   "cell_type": "code",
   "execution_count": null,
   "id": "da1ce5ad",
   "metadata": {},
   "outputs": [],
   "source": []
  }
 ],
 "metadata": {
  "kernelspec": {
   "display_name": "Python 3 (ipykernel)",
   "language": "python",
   "name": "python3"
  },
  "language_info": {
   "codemirror_mode": {
    "name": "ipython",
    "version": 3
   },
   "file_extension": ".py",
   "mimetype": "text/x-python",
   "name": "python",
   "nbconvert_exporter": "python",
   "pygments_lexer": "ipython3",
   "version": "3.9.7"
  }
 },
 "nbformat": 4,
 "nbformat_minor": 5
}
